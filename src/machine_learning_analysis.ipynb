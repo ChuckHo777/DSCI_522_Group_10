{
 "cells": [
  {
   "cell_type": "code",
   "execution_count": 454,
   "metadata": {},
   "outputs": [],
   "source": [
    "#Standards\n",
    "import os\n",
    "import numpy as np\n",
    "import pandas as pd\n",
    "import string\n",
    "from collections import deque\n",
    "\n",
    "\n",
    "\n",
    "#Plots\n",
    "%matplotlib inline\n",
    "import matplotlib.pyplot as plt\n",
    "import altair as alt\n",
    "import seaborn as sns\n",
    "\n",
    "\n",
    "\n",
    "# classifiers / models\n",
    "from sklearn.linear_model import LinearRegression, LogisticRegression, Ridge, RidgeCV, RidgeClassifier\n",
    "from sklearn.dummy import DummyClassifier, DummyRegressor\n",
    "from sklearn.ensemble import RandomForestClassifier, RandomForestRegressor\n",
    "from sklearn.svm import SVC\n",
    "from sklearn.tree import DecisionTreeClassifier\n",
    "from sklearn.naive_bayes import GaussianNB\n",
    "from sklearn.svm import SVC, SVR\n",
    "\n",
    "\n",
    "\n",
    "# Data, preprocessing and pipeline\n",
    "\n",
    "#Pro\n",
    "from sklearn import datasets\n",
    "from sklearn.feature_extraction.text import CountVectorizer\n",
    "from sklearn.impute import SimpleImputer\n",
    "\n",
    "from sklearn.preprocessing import (\n",
    "    OneHotEncoder,\n",
    "    OrdinalEncoder,\n",
    "    PolynomialFeatures,\n",
    "    StandardScaler,\n",
    ")\n",
    "from sklearn.pipeline import Pipeline, make_pipeline\n",
    "from sklearn.compose import (\n",
    "    ColumnTransformer,\n",
    "    TransformedTargetRegressor,\n",
    "    make_column_transformer,\n",
    ")\n",
    "\n",
    "\n",
    "# metrics for class imbalance\n",
    "from sklearn.metrics import (\n",
    "    accuracy_score,\n",
    "    classification_report,\n",
    "    confusion_matrix, \n",
    "    plot_confusion_matrix,\n",
    "    f1_score,\n",
    "    make_scorer,\n",
    "    precision_score,\n",
    "    recall_score,\n",
    ")\n",
    "\n",
    "\n",
    "# hyperparameter optimization\n",
    "\n",
    "from sklearn.model_selection import (\n",
    "    GridSearchCV,\n",
    "    RandomizedSearchCV,\n",
    "    ShuffleSplit,\n",
    "    cross_val_score,\n",
    "    cross_validate,\n",
    "    train_test_split,\n",
    ")\n",
    "\n",
    "# other\n",
    "# ignore warning \n",
    "import warnings\n",
    "warnings.filterwarnings('ignore')\n"
   ]
  },
  {
   "cell_type": "code",
   "execution_count": 407,
   "metadata": {},
   "outputs": [],
   "source": [
    "bank_add_full = pd.read_csv(\"../data/raw/bank-additional-full.csv\", sep=';')\n",
    "\n",
    "df = bank_add_full"
   ]
  },
  {
   "cell_type": "code",
   "execution_count": 409,
   "metadata": {},
   "outputs": [],
   "source": [
    "df2 = df.copy()\n",
    "df2.loc[df['y'] == 'no', 'target'] = 0\n",
    "df2.loc[df['y'] == 'yes', 'target'] = 1"
   ]
  },
  {
   "cell_type": "code",
   "execution_count": 410,
   "metadata": {},
   "outputs": [],
   "source": [
    "train_df, test_df = train_test_split(df2, test_size = 0.20, random_state=123)"
   ]
  },
  {
   "cell_type": "code",
   "execution_count": 411,
   "metadata": {},
   "outputs": [],
   "source": [
    "numeric_features = [\"age\", \"campaign\", \"pdays\", \"previous\", \"emp.var.rate\", \n",
    "                    \"cons.price.idx\", \"cons.conf.idx\", \"euribor3m\", \"nr.employed\", \"duration\"]\n",
    "categorical_features = [\"job\", \"poutcome\", \"month\", \"day_of_week\", \"contact\",\"marital\", \"default\", \"housing\", \"loan\"]\n",
    "ordinal_features = [\"education\"]\n",
    "education_ordering = ['illiterate', 'basic.4y','basic.6y','basic.9y','high.school',\n",
    "            'professional.course','university.degree', 'unknown']\n",
    "drop_features = [\"y\"]\n",
    "target = [\"target\"]"
   ]
  },
  {
   "cell_type": "code",
   "execution_count": 412,
   "metadata": {},
   "outputs": [],
   "source": [
    "X_train = train_df.drop(columns=target)\n",
    "y_train = train_df[target]\n",
    "X_test = test_df.drop(columns=target)\n",
    "y_test = test_df[target]"
   ]
  },
  {
   "cell_type": "code",
   "execution_count": 268,
   "metadata": {},
   "outputs": [],
   "source": [
    "numeric_transformer = make_pipeline(       \n",
    "    SimpleImputer(strategy=\"median\"), \n",
    "    StandardScaler()   \n",
    "    )  \n",
    "ordinal_transformer = make_pipeline(       \n",
    "    SimpleImputer(strategy=\"most_frequent\"),       \n",
    "    OrdinalEncoder(categories=[education_ordering])   \n",
    "    )   \n",
    "categorical_transformer = make_pipeline(       \n",
    "    SimpleImputer(strategy=\"constant\", fill_value=\"missing\"),       \n",
    "    OneHotEncoder(handle_unknown=\"ignore\", sparse=False)  \n",
    "    )"
   ]
  },
  {
   "cell_type": "code",
   "execution_count": 413,
   "metadata": {},
   "outputs": [],
   "source": [
    "\n",
    "\n",
    "preprocessor = make_column_transformer(\n",
    "    (\"drop\", drop_features),\n",
    "    (numeric_transformer, numeric_features),\n",
    "    (ordinal_transformer, ordinal_features),\n",
    "    (categorical_transformer, categorical_features)\n",
    ")"
   ]
  },
  {
   "cell_type": "code",
   "execution_count": 255,
   "metadata": {},
   "outputs": [],
   "source": [
    "# A function to store mean cross-validation validation values \n",
    "def store_cross_val_results(model_name, scores, results_dict):\n",
    "    results_dict[model_name] = {\n",
    "        \"accuracy\": \"{:0.4f}\".format(np.mean(scores[\"test_accuracy\"])),\n",
    "#         \"mean_fit_time (s)\": \"{:0.4f}\".format(np.mean(scores[\"fit_time\"])),   #since it's not critical to get the result within an hour or so, fit and score time would not matter much\n",
    "#         \"mean_score_time (s)\": \"{:0.4f}\".format(np.mean(scores[\"score_time\"])),\n",
    "        \"recall\": \"{:0.4f}\".format(np.mean(scores[\"test_recall\"])),\n",
    "        \"precision\": \"{:0.4f}\".format(np.mean(scores[\"test_precision\"])),\n",
    "        \"f1\": \"{:0.4f}\".format(np.mean(scores[\"test_f1\"])),\n",
    "        \"AP\": \"{:0.4f}\".format(np.mean(scores[\"test_average_precision\"])),\n",
    "        \"roc_auc\": \"{:0.4f}\".format(np.mean(scores[\"test_roc_auc\"])),\n",
    "    }"
   ]
  },
  {
   "cell_type": "code",
   "execution_count": 416,
   "metadata": {},
   "outputs": [],
   "source": [
    "results_df = {}"
   ]
  },
  {
   "cell_type": "code",
   "execution_count": 417,
   "metadata": {},
   "outputs": [
    {
     "data": {
      "text/html": [
       "<div>\n",
       "<style scoped>\n",
       "    .dataframe tbody tr th:only-of-type {\n",
       "        vertical-align: middle;\n",
       "    }\n",
       "\n",
       "    .dataframe tbody tr th {\n",
       "        vertical-align: top;\n",
       "    }\n",
       "\n",
       "    .dataframe thead th {\n",
       "        text-align: right;\n",
       "    }\n",
       "</style>\n",
       "<table border=\"1\" class=\"dataframe\">\n",
       "  <thead>\n",
       "    <tr style=\"text-align: right;\">\n",
       "      <th></th>\n",
       "      <th>Dummy</th>\n",
       "    </tr>\n",
       "  </thead>\n",
       "  <tbody>\n",
       "    <tr>\n",
       "      <th>AP</th>\n",
       "      <td>0.1123</td>\n",
       "    </tr>\n",
       "    <tr>\n",
       "      <th>accuracy</th>\n",
       "      <td>0.8877</td>\n",
       "    </tr>\n",
       "    <tr>\n",
       "      <th>f1</th>\n",
       "      <td>0.0000</td>\n",
       "    </tr>\n",
       "    <tr>\n",
       "      <th>precision</th>\n",
       "      <td>0.0000</td>\n",
       "    </tr>\n",
       "    <tr>\n",
       "      <th>recall</th>\n",
       "      <td>0.0000</td>\n",
       "    </tr>\n",
       "    <tr>\n",
       "      <th>roc_auc</th>\n",
       "      <td>0.5000</td>\n",
       "    </tr>\n",
       "  </tbody>\n",
       "</table>\n",
       "</div>"
      ],
      "text/plain": [
       "            Dummy\n",
       "AP         0.1123\n",
       "accuracy   0.8877\n",
       "f1         0.0000\n",
       "precision  0.0000\n",
       "recall     0.0000\n",
       "roc_auc    0.5000"
      ]
     },
     "execution_count": 417,
     "metadata": {},
     "output_type": "execute_result"
    }
   ],
   "source": [
    "scoring=[\"accuracy\", \"f1\", \"recall\", \"precision\", \"average_precision\", \"roc_auc\"] \n",
    "pipe = make_pipeline(preprocessor, DummyClassifier(strategy=\"most_frequent\"))\n",
    "scores = cross_validate(pipe, X_train, y_train, return_train_score=True, scoring=scoring)\n",
    "summary = store_cross_val_results(\"Dummy\", scores, results_df)\n",
    "pd.DataFrame(results_df)"
   ]
  },
  {
   "cell_type": "code",
   "execution_count": 418,
   "metadata": {},
   "outputs": [],
   "source": [
    "models = {\n",
    "    \"Decision Tree\": DecisionTreeClassifier(),\n",
    "    \"RBF SVM\": SVC(),\n",
    "    \"Naive Bayes\": GaussianNB(),\n",
    "    \"Logistic Regression\": LogisticRegression(),  #max_iter=2000\n",
    "    \"Logistic Regression (balanced)\": LogisticRegression(class_weight=\"balanced\"),  #max_iter=2000,\n",
    "    \"Ridge Classifier\": RidgeClassifier(),\n",
    "    \"Random Forest\": RandomForestClassifier(),\n",
    "    \"Random Forest (balanced)\": RandomForestClassifier(class_weight=\"balanced\")\n",
    "}"
   ]
  },
  {
   "cell_type": "code",
   "execution_count": 420,
   "metadata": {},
   "outputs": [],
   "source": [
    "for model_name, model in models.items():\n",
    "    pipe = make_pipeline(preprocessor, model)\n",
    "    scores = cross_validate(pipe, X_train, y_train, cv=5, scoring=scoring, n_jobs=-1)\n",
    "    summary = store_cross_val_results(model_name, scores, results_df)\n",
    "model_selection = pd.DataFrame(results_df).T  "
   ]
  },
  {
   "cell_type": "code",
   "execution_count": 423,
   "metadata": {},
   "outputs": [
    {
     "data": {
      "text/html": [
       "<div>\n",
       "<style scoped>\n",
       "    .dataframe tbody tr th:only-of-type {\n",
       "        vertical-align: middle;\n",
       "    }\n",
       "\n",
       "    .dataframe tbody tr th {\n",
       "        vertical-align: top;\n",
       "    }\n",
       "\n",
       "    .dataframe thead th {\n",
       "        text-align: right;\n",
       "    }\n",
       "</style>\n",
       "<table border=\"1\" class=\"dataframe\">\n",
       "  <thead>\n",
       "    <tr style=\"text-align: right;\">\n",
       "      <th></th>\n",
       "      <th>accuracy</th>\n",
       "      <th>recall</th>\n",
       "      <th>precision</th>\n",
       "      <th>f1</th>\n",
       "      <th>AP</th>\n",
       "      <th>roc_auc</th>\n",
       "    </tr>\n",
       "  </thead>\n",
       "  <tbody>\n",
       "    <tr>\n",
       "      <th>Dummy</th>\n",
       "      <td>0.8877</td>\n",
       "      <td>0.0000</td>\n",
       "      <td>0.0000</td>\n",
       "      <td>0.0000</td>\n",
       "      <td>0.1123</td>\n",
       "      <td>0.5000</td>\n",
       "    </tr>\n",
       "    <tr>\n",
       "      <th>Decision Tree</th>\n",
       "      <td>0.8885</td>\n",
       "      <td>0.5281</td>\n",
       "      <td>0.5035</td>\n",
       "      <td>0.5154</td>\n",
       "      <td>0.3190</td>\n",
       "      <td>0.7311</td>\n",
       "    </tr>\n",
       "    <tr>\n",
       "      <th>RBF SVM</th>\n",
       "      <td>0.9084</td>\n",
       "      <td>0.3635</td>\n",
       "      <td>0.6703</td>\n",
       "      <td>0.4712</td>\n",
       "      <td>0.6127</td>\n",
       "      <td>0.9200</td>\n",
       "    </tr>\n",
       "    <tr>\n",
       "      <th>Naive Bayes</th>\n",
       "      <td>0.8100</td>\n",
       "      <td>0.6535</td>\n",
       "      <td>0.3270</td>\n",
       "      <td>0.4358</td>\n",
       "      <td>0.3870</td>\n",
       "      <td>0.8277</td>\n",
       "    </tr>\n",
       "    <tr>\n",
       "      <th>Logistic Regression</th>\n",
       "      <td>0.9105</td>\n",
       "      <td>0.4211</td>\n",
       "      <td>0.6595</td>\n",
       "      <td>0.5138</td>\n",
       "      <td>0.5906</td>\n",
       "      <td>0.9334</td>\n",
       "    </tr>\n",
       "    <tr>\n",
       "      <th>Logistic Regression (balanced)</th>\n",
       "      <td>0.8591</td>\n",
       "      <td>0.8789</td>\n",
       "      <td>0.4369</td>\n",
       "      <td>0.5836</td>\n",
       "      <td>0.5827</td>\n",
       "      <td>0.9360</td>\n",
       "    </tr>\n",
       "    <tr>\n",
       "      <th>Ridge Classifier</th>\n",
       "      <td>0.9062</td>\n",
       "      <td>0.3211</td>\n",
       "      <td>0.6723</td>\n",
       "      <td>0.4345</td>\n",
       "      <td>0.5944</td>\n",
       "      <td>0.9324</td>\n",
       "    </tr>\n",
       "    <tr>\n",
       "      <th>Random Forest</th>\n",
       "      <td>0.9121</td>\n",
       "      <td>0.4557</td>\n",
       "      <td>0.6577</td>\n",
       "      <td>0.5382</td>\n",
       "      <td>0.6348</td>\n",
       "      <td>0.9400</td>\n",
       "    </tr>\n",
       "    <tr>\n",
       "      <th>Random Forest (balanced)</th>\n",
       "      <td>0.9109</td>\n",
       "      <td>0.4054</td>\n",
       "      <td>0.6716</td>\n",
       "      <td>0.5054</td>\n",
       "      <td>0.6303</td>\n",
       "      <td>0.9406</td>\n",
       "    </tr>\n",
       "  </tbody>\n",
       "</table>\n",
       "</div>"
      ],
      "text/plain": [
       "                               accuracy  recall precision      f1      AP  \\\n",
       "Dummy                            0.8877  0.0000    0.0000  0.0000  0.1123   \n",
       "Decision Tree                    0.8885  0.5281    0.5035  0.5154  0.3190   \n",
       "RBF SVM                          0.9084  0.3635    0.6703  0.4712  0.6127   \n",
       "Naive Bayes                      0.8100  0.6535    0.3270  0.4358  0.3870   \n",
       "Logistic Regression              0.9105  0.4211    0.6595  0.5138  0.5906   \n",
       "Logistic Regression (balanced)   0.8591  0.8789    0.4369  0.5836  0.5827   \n",
       "Ridge Classifier                 0.9062  0.3211    0.6723  0.4345  0.5944   \n",
       "Random Forest                    0.9121  0.4557    0.6577  0.5382  0.6348   \n",
       "Random Forest (balanced)         0.9109  0.4054    0.6716  0.5054  0.6303   \n",
       "\n",
       "                               roc_auc  \n",
       "Dummy                           0.5000  \n",
       "Decision Tree                   0.7311  \n",
       "RBF SVM                         0.9200  \n",
       "Naive Bayes                     0.8277  \n",
       "Logistic Regression             0.9334  \n",
       "Logistic Regression (balanced)  0.9360  \n",
       "Ridge Classifier                0.9324  \n",
       "Random Forest                   0.9400  \n",
       "Random Forest (balanced)        0.9406  "
      ]
     },
     "execution_count": 423,
     "metadata": {},
     "output_type": "execute_result"
    }
   ],
   "source": [
    "model_selection.to_html('../data/model_selection.html', justify = \"center\")\n",
    "model_selection"
   ]
  },
  {
   "cell_type": "code",
   "execution_count": 424,
   "metadata": {},
   "outputs": [],
   "source": [
    "pipe_lr_balance = make_pipeline(preprocessor, LogisticRegression(class_weight=\"balanced\"))"
   ]
  },
  {
   "cell_type": "code",
   "execution_count": 425,
   "metadata": {},
   "outputs": [
    {
     "name": "stdout",
     "output_type": "stream",
     "text": [
      "Fitting 5 folds for each of 30 candidates, totalling 150 fits\n"
     ]
    },
    {
     "name": "stderr",
     "output_type": "stream",
     "text": [
      "[Parallel(n_jobs=-1)]: Using backend LokyBackend with 12 concurrent workers.\n",
      "[Parallel(n_jobs=-1)]: Done  26 tasks      | elapsed:   11.1s\n",
      "[Parallel(n_jobs=-1)]: Done 150 out of 150 | elapsed:   41.0s finished\n"
     ]
    },
    {
     "data": {
      "text/html": [
       "<style>div.sk-top-container {color: black;background-color: white;}div.sk-toggleable {background-color: white;}label.sk-toggleable__label {cursor: pointer;display: block;width: 100%;margin-bottom: 0;padding: 0.2em 0.3em;box-sizing: border-box;text-align: center;}div.sk-toggleable__content {max-height: 0;max-width: 0;overflow: hidden;text-align: left;background-color: #f0f8ff;}div.sk-toggleable__content pre {margin: 0.2em;color: black;border-radius: 0.25em;background-color: #f0f8ff;}input.sk-toggleable__control:checked~div.sk-toggleable__content {max-height: 200px;max-width: 100%;overflow: auto;}div.sk-estimator input.sk-toggleable__control:checked~label.sk-toggleable__label {background-color: #d4ebff;}div.sk-label input.sk-toggleable__control:checked~label.sk-toggleable__label {background-color: #d4ebff;}input.sk-hidden--visually {border: 0;clip: rect(1px 1px 1px 1px);clip: rect(1px, 1px, 1px, 1px);height: 1px;margin: -1px;overflow: hidden;padding: 0;position: absolute;width: 1px;}div.sk-estimator {font-family: monospace;background-color: #f0f8ff;margin: 0.25em 0.25em;border: 1px dotted black;border-radius: 0.25em;box-sizing: border-box;}div.sk-estimator:hover {background-color: #d4ebff;}div.sk-parallel-item::after {content: \"\";width: 100%;border-bottom: 1px solid gray;flex-grow: 1;}div.sk-label:hover label.sk-toggleable__label {background-color: #d4ebff;}div.sk-serial::before {content: \"\";position: absolute;border-left: 1px solid gray;box-sizing: border-box;top: 2em;bottom: 0;left: 50%;}div.sk-serial {display: flex;flex-direction: column;align-items: center;background-color: white;}div.sk-item {z-index: 1;}div.sk-parallel {display: flex;align-items: stretch;justify-content: center;background-color: white;}div.sk-parallel-item {display: flex;flex-direction: column;position: relative;background-color: white;}div.sk-parallel-item:first-child::after {align-self: flex-end;width: 50%;}div.sk-parallel-item:last-child::after {align-self: flex-start;width: 50%;}div.sk-parallel-item:only-child::after {width: 0;}div.sk-dashed-wrapped {border: 1px dashed gray;margin: 0.2em;box-sizing: border-box;padding-bottom: 0.1em;background-color: white;position: relative;}div.sk-label label {font-family: monospace;font-weight: bold;background-color: white;display: inline-block;line-height: 1.2em;}div.sk-label-container {position: relative;z-index: 2;text-align: center;}div.sk-container {display: inline-block;position: relative;}</style><div class=\"sk-top-container\"><div class=\"sk-container\"><div class=\"sk-item sk-dashed-wrapped\"><div class=\"sk-label-container\"><div class=\"sk-label sk-toggleable\"><input class=\"sk-toggleable__control sk-hidden--visually\" id=\"1c1fb8ab-0783-4947-a37a-10071ac8b428\" type=\"checkbox\" ><label class=\"sk-toggleable__label\" for=\"1c1fb8ab-0783-4947-a37a-10071ac8b428\">RandomizedSearchCV</label><div class=\"sk-toggleable__content\"><pre>RandomizedSearchCV(cv=5,\n",
       "                   estimator=Pipeline(steps=[('columntransformer',\n",
       "                                              ColumnTransformer(transformers=[('drop',\n",
       "                                                                               'drop',\n",
       "                                                                               ['y']),\n",
       "                                                                              ('pipeline-1',\n",
       "                                                                               Pipeline(steps=[('simpleimputer',\n",
       "                                                                                                SimpleImputer(strategy='median')),\n",
       "                                                                                               ('standardscaler',\n",
       "                                                                                                StandardScaler())]),\n",
       "                                                                               ['age',\n",
       "                                                                                'campaign',\n",
       "                                                                                'pdays',\n",
       "                                                                                'previous',\n",
       "                                                                                'emp.var.rate',\n",
       "                                                                                'cons.price.idx',\n",
       "                                                                                'cons.conf.idx',\n",
       "                                                                                'euribor3m',\n",
       "                                                                                'nr.emplo...\n",
       "                                                                                'day_of_week',\n",
       "                                                                                'contact',\n",
       "                                                                                'marital',\n",
       "                                                                                'default',\n",
       "                                                                                'housing',\n",
       "                                                                                'loan'])])),\n",
       "                                             ('logisticregression',\n",
       "                                              LogisticRegression(class_weight='balanced'))]),\n",
       "                   n_iter=30, n_jobs=-1,\n",
       "                   param_distributions={'logisticregression__C': array([1.e-03, 1.e-02, 1.e-01, 1.e+00, 1.e+01, 1.e+02]),\n",
       "                                        'logisticregression__max_iter': array([ 200,  400,  600,  800, 1000, 1200, 1400, 1600, 1800])},\n",
       "                   scoring='f1', verbose=1)</pre></div></div></div><div class=\"sk-parallel\"><div class=\"sk-parallel-item\"><div class=\"sk-item\"><div class=\"sk-serial\"><div class=\"sk-item\"><div class=\"sk-serial\"><div class=\"sk-item sk-dashed-wrapped\"><div class=\"sk-label-container\"><div class=\"sk-label sk-toggleable\"><input class=\"sk-toggleable__control sk-hidden--visually\" id=\"dfb20560-0b86-4ee8-a999-60b19681cbdc\" type=\"checkbox\" ><label class=\"sk-toggleable__label\" for=\"dfb20560-0b86-4ee8-a999-60b19681cbdc\">columntransformer: ColumnTransformer</label><div class=\"sk-toggleable__content\"><pre>ColumnTransformer(transformers=[('drop', 'drop', ['y']),\n",
       "                                ('pipeline-1',\n",
       "                                 Pipeline(steps=[('simpleimputer',\n",
       "                                                  SimpleImputer(strategy='median')),\n",
       "                                                 ('standardscaler',\n",
       "                                                  StandardScaler())]),\n",
       "                                 ['age', 'campaign', 'pdays', 'previous',\n",
       "                                  'emp.var.rate', 'cons.price.idx',\n",
       "                                  'cons.conf.idx', 'euribor3m', 'nr.employed',\n",
       "                                  'duration']),\n",
       "                                ('pipeline-2',\n",
       "                                 Pipeline(steps=[('simpleimputer',\n",
       "                                                  Simple...\n",
       "                                                                              'high.school',\n",
       "                                                                              'professional.course',\n",
       "                                                                              'university.degree',\n",
       "                                                                              'unknown']]))]),\n",
       "                                 ['education']),\n",
       "                                ('pipeline-3',\n",
       "                                 Pipeline(steps=[('simpleimputer',\n",
       "                                                  SimpleImputer(fill_value='missing',\n",
       "                                                                strategy='constant')),\n",
       "                                                 ('onehotencoder',\n",
       "                                                  OneHotEncoder(handle_unknown='ignore',\n",
       "                                                                sparse=False))]),\n",
       "                                 ['job', 'poutcome', 'month', 'day_of_week',\n",
       "                                  'contact', 'marital', 'default', 'housing',\n",
       "                                  'loan'])])</pre></div></div></div><div class=\"sk-parallel\"><div class=\"sk-parallel-item\"><div class=\"sk-item\"><div class=\"sk-label-container\"><div class=\"sk-label sk-toggleable\"><input class=\"sk-toggleable__control sk-hidden--visually\" id=\"b402c7e9-5d2f-4b78-9acb-0d2a7bc939bf\" type=\"checkbox\" ><label class=\"sk-toggleable__label\" for=\"b402c7e9-5d2f-4b78-9acb-0d2a7bc939bf\">drop</label><div class=\"sk-toggleable__content\"><pre>['y']</pre></div></div></div><div class=\"sk-serial\"><div class=\"sk-item\"><div class=\"sk-estimator sk-toggleable\"><input class=\"sk-toggleable__control sk-hidden--visually\" id=\"601304ea-867b-43c7-aed5-eb7fefcab3fc\" type=\"checkbox\" ><label class=\"sk-toggleable__label\" for=\"601304ea-867b-43c7-aed5-eb7fefcab3fc\">drop</label><div class=\"sk-toggleable__content\"><pre>drop</pre></div></div></div></div></div></div><div class=\"sk-parallel-item\"><div class=\"sk-item\"><div class=\"sk-label-container\"><div class=\"sk-label sk-toggleable\"><input class=\"sk-toggleable__control sk-hidden--visually\" id=\"1a3b834f-a3a5-4b01-aecf-408efd257573\" type=\"checkbox\" ><label class=\"sk-toggleable__label\" for=\"1a3b834f-a3a5-4b01-aecf-408efd257573\">pipeline-1</label><div class=\"sk-toggleable__content\"><pre>['age', 'campaign', 'pdays', 'previous', 'emp.var.rate', 'cons.price.idx', 'cons.conf.idx', 'euribor3m', 'nr.employed', 'duration']</pre></div></div></div><div class=\"sk-serial\"><div class=\"sk-item\"><div class=\"sk-serial\"><div class=\"sk-item\"><div class=\"sk-estimator sk-toggleable\"><input class=\"sk-toggleable__control sk-hidden--visually\" id=\"22c85818-5e1e-4fc1-97ad-58a52ea794fa\" type=\"checkbox\" ><label class=\"sk-toggleable__label\" for=\"22c85818-5e1e-4fc1-97ad-58a52ea794fa\">SimpleImputer</label><div class=\"sk-toggleable__content\"><pre>SimpleImputer(strategy='median')</pre></div></div></div><div class=\"sk-item\"><div class=\"sk-estimator sk-toggleable\"><input class=\"sk-toggleable__control sk-hidden--visually\" id=\"ffcd69a8-1439-42dc-92d1-65d6b92f60b2\" type=\"checkbox\" ><label class=\"sk-toggleable__label\" for=\"ffcd69a8-1439-42dc-92d1-65d6b92f60b2\">StandardScaler</label><div class=\"sk-toggleable__content\"><pre>StandardScaler()</pre></div></div></div></div></div></div></div></div><div class=\"sk-parallel-item\"><div class=\"sk-item\"><div class=\"sk-label-container\"><div class=\"sk-label sk-toggleable\"><input class=\"sk-toggleable__control sk-hidden--visually\" id=\"3e927c20-c6aa-4c94-b9f7-89955984183c\" type=\"checkbox\" ><label class=\"sk-toggleable__label\" for=\"3e927c20-c6aa-4c94-b9f7-89955984183c\">pipeline-2</label><div class=\"sk-toggleable__content\"><pre>['education']</pre></div></div></div><div class=\"sk-serial\"><div class=\"sk-item\"><div class=\"sk-serial\"><div class=\"sk-item\"><div class=\"sk-estimator sk-toggleable\"><input class=\"sk-toggleable__control sk-hidden--visually\" id=\"a92ed2e9-21c0-4076-8c3e-7426706fbaec\" type=\"checkbox\" ><label class=\"sk-toggleable__label\" for=\"a92ed2e9-21c0-4076-8c3e-7426706fbaec\">SimpleImputer</label><div class=\"sk-toggleable__content\"><pre>SimpleImputer(strategy='most_frequent')</pre></div></div></div><div class=\"sk-item\"><div class=\"sk-estimator sk-toggleable\"><input class=\"sk-toggleable__control sk-hidden--visually\" id=\"6c42f877-01e7-41f0-abed-53d6c64dc04c\" type=\"checkbox\" ><label class=\"sk-toggleable__label\" for=\"6c42f877-01e7-41f0-abed-53d6c64dc04c\">OrdinalEncoder</label><div class=\"sk-toggleable__content\"><pre>OrdinalEncoder(categories=[['illiterate', 'basic.4y', 'basic.6y', 'basic.9y',\n",
       "                            'high.school', 'professional.course',\n",
       "                            'university.degree', 'unknown']])</pre></div></div></div></div></div></div></div></div><div class=\"sk-parallel-item\"><div class=\"sk-item\"><div class=\"sk-label-container\"><div class=\"sk-label sk-toggleable\"><input class=\"sk-toggleable__control sk-hidden--visually\" id=\"21ad6214-0cfe-4d67-adbf-4550f91629e8\" type=\"checkbox\" ><label class=\"sk-toggleable__label\" for=\"21ad6214-0cfe-4d67-adbf-4550f91629e8\">pipeline-3</label><div class=\"sk-toggleable__content\"><pre>['job', 'poutcome', 'month', 'day_of_week', 'contact', 'marital', 'default', 'housing', 'loan']</pre></div></div></div><div class=\"sk-serial\"><div class=\"sk-item\"><div class=\"sk-serial\"><div class=\"sk-item\"><div class=\"sk-estimator sk-toggleable\"><input class=\"sk-toggleable__control sk-hidden--visually\" id=\"a6cd0720-194a-4ae2-b3c4-c3069cfc75d6\" type=\"checkbox\" ><label class=\"sk-toggleable__label\" for=\"a6cd0720-194a-4ae2-b3c4-c3069cfc75d6\">SimpleImputer</label><div class=\"sk-toggleable__content\"><pre>SimpleImputer(fill_value='missing', strategy='constant')</pre></div></div></div><div class=\"sk-item\"><div class=\"sk-estimator sk-toggleable\"><input class=\"sk-toggleable__control sk-hidden--visually\" id=\"f9d7c4bc-176e-48da-84ee-e6d3db77eaa0\" type=\"checkbox\" ><label class=\"sk-toggleable__label\" for=\"f9d7c4bc-176e-48da-84ee-e6d3db77eaa0\">OneHotEncoder</label><div class=\"sk-toggleable__content\"><pre>OneHotEncoder(handle_unknown='ignore', sparse=False)</pre></div></div></div></div></div></div></div></div></div></div><div class=\"sk-item\"><div class=\"sk-estimator sk-toggleable\"><input class=\"sk-toggleable__control sk-hidden--visually\" id=\"f0384037-e46e-42c5-8139-c36e8e77801a\" type=\"checkbox\" ><label class=\"sk-toggleable__label\" for=\"f0384037-e46e-42c5-8139-c36e8e77801a\">LogisticRegression</label><div class=\"sk-toggleable__content\"><pre>LogisticRegression(class_weight='balanced')</pre></div></div></div></div></div></div></div></div></div></div></div></div>"
      ],
      "text/plain": [
       "RandomizedSearchCV(cv=5,\n",
       "                   estimator=Pipeline(steps=[('columntransformer',\n",
       "                                              ColumnTransformer(transformers=[('drop',\n",
       "                                                                               'drop',\n",
       "                                                                               ['y']),\n",
       "                                                                              ('pipeline-1',\n",
       "                                                                               Pipeline(steps=[('simpleimputer',\n",
       "                                                                                                SimpleImputer(strategy='median')),\n",
       "                                                                                               ('standardscaler',\n",
       "                                                                                                StandardScaler())]),\n",
       "                                                                               ['age',\n",
       "                                                                                'campaign',\n",
       "                                                                                'pdays',\n",
       "                                                                                'previous',\n",
       "                                                                                'emp.var.rate',\n",
       "                                                                                'cons.price.idx',\n",
       "                                                                                'cons.conf.idx',\n",
       "                                                                                'euribor3m',\n",
       "                                                                                'nr.emplo...\n",
       "                                                                                'day_of_week',\n",
       "                                                                                'contact',\n",
       "                                                                                'marital',\n",
       "                                                                                'default',\n",
       "                                                                                'housing',\n",
       "                                                                                'loan'])])),\n",
       "                                             ('logisticregression',\n",
       "                                              LogisticRegression(class_weight='balanced'))]),\n",
       "                   n_iter=30, n_jobs=-1,\n",
       "                   param_distributions={'logisticregression__C': array([1.e-03, 1.e-02, 1.e-01, 1.e+00, 1.e+01, 1.e+02]),\n",
       "                                        'logisticregression__max_iter': array([ 200,  400,  600,  800, 1000, 1200, 1400, 1600, 1800])},\n",
       "                   scoring='f1', verbose=1)"
      ]
     },
     "execution_count": 425,
     "metadata": {},
     "output_type": "execute_result"
    }
   ],
   "source": [
    "param_grid = {\n",
    "    \"logisticregression__C\": 10.0 ** np.arange(-3, 3),\n",
    "    \"logisticregression__max_iter\": np.arange(200,2000,200),\n",
    "}\n",
    "random_search = RandomizedSearchCV(pipe_lr_balance, param_distributions=param_grid, n_jobs=-1, n_iter=30, cv=5, scoring = \"f1\", verbose=1)\n",
    "random_search.fit(X_train, y_train)"
   ]
  },
  {
   "cell_type": "code",
   "execution_count": 440,
   "metadata": {},
   "outputs": [
    {
     "name": "stdout",
     "output_type": "stream",
     "text": [
      "Best hyperparameter values:  {'logisticregression__max_iter': 200, 'logisticregression__C': 1.0}\n",
      "Best score: 0.584\n"
     ]
    }
   ],
   "source": [
    "print(\"Best hyperparameter values: \", random_search.best_params_)\n",
    "print(\"Best score: %0.3f\" % (random_search.best_score_))\n",
    "\n",
    "\n",
    "hyper_opt_result = pd.DataFrame(random_search.cv_results_)[\n",
    "    [\n",
    "        \"mean_test_score\",\n",
    "        \"param_logisticregression__C\",\n",
    "        \"param_logisticregression__max_iter\",\n",
    "        \"rank_test_score\",\n",
    "    ]\n",
    "].set_index(\"rank_test_score\").sort_index().reset_index().head(5)\n",
    "\n",
    "\n",
    "\n",
    "hyper_opt_result.rename(columns= {'mean_test_score':'f1', 'rank_test_score':'rank'}, inplace=True)\n",
    "hyper_opt_result\n",
    "\n",
    "hyper_opt_result.to_html('../data/hyperparameter_optimization_result.html', justify = \"center\")\n"
   ]
  },
  {
   "cell_type": "code",
   "execution_count": 441,
   "metadata": {},
   "outputs": [
    {
     "data": {
      "text/html": [
       "<style>div.sk-top-container {color: black;background-color: white;}div.sk-toggleable {background-color: white;}label.sk-toggleable__label {cursor: pointer;display: block;width: 100%;margin-bottom: 0;padding: 0.2em 0.3em;box-sizing: border-box;text-align: center;}div.sk-toggleable__content {max-height: 0;max-width: 0;overflow: hidden;text-align: left;background-color: #f0f8ff;}div.sk-toggleable__content pre {margin: 0.2em;color: black;border-radius: 0.25em;background-color: #f0f8ff;}input.sk-toggleable__control:checked~div.sk-toggleable__content {max-height: 200px;max-width: 100%;overflow: auto;}div.sk-estimator input.sk-toggleable__control:checked~label.sk-toggleable__label {background-color: #d4ebff;}div.sk-label input.sk-toggleable__control:checked~label.sk-toggleable__label {background-color: #d4ebff;}input.sk-hidden--visually {border: 0;clip: rect(1px 1px 1px 1px);clip: rect(1px, 1px, 1px, 1px);height: 1px;margin: -1px;overflow: hidden;padding: 0;position: absolute;width: 1px;}div.sk-estimator {font-family: monospace;background-color: #f0f8ff;margin: 0.25em 0.25em;border: 1px dotted black;border-radius: 0.25em;box-sizing: border-box;}div.sk-estimator:hover {background-color: #d4ebff;}div.sk-parallel-item::after {content: \"\";width: 100%;border-bottom: 1px solid gray;flex-grow: 1;}div.sk-label:hover label.sk-toggleable__label {background-color: #d4ebff;}div.sk-serial::before {content: \"\";position: absolute;border-left: 1px solid gray;box-sizing: border-box;top: 2em;bottom: 0;left: 50%;}div.sk-serial {display: flex;flex-direction: column;align-items: center;background-color: white;}div.sk-item {z-index: 1;}div.sk-parallel {display: flex;align-items: stretch;justify-content: center;background-color: white;}div.sk-parallel-item {display: flex;flex-direction: column;position: relative;background-color: white;}div.sk-parallel-item:first-child::after {align-self: flex-end;width: 50%;}div.sk-parallel-item:last-child::after {align-self: flex-start;width: 50%;}div.sk-parallel-item:only-child::after {width: 0;}div.sk-dashed-wrapped {border: 1px dashed gray;margin: 0.2em;box-sizing: border-box;padding-bottom: 0.1em;background-color: white;position: relative;}div.sk-label label {font-family: monospace;font-weight: bold;background-color: white;display: inline-block;line-height: 1.2em;}div.sk-label-container {position: relative;z-index: 2;text-align: center;}div.sk-container {display: inline-block;position: relative;}</style><div class=\"sk-top-container\"><div class=\"sk-container\"><div class=\"sk-item sk-dashed-wrapped\"><div class=\"sk-label-container\"><div class=\"sk-label sk-toggleable\"><input class=\"sk-toggleable__control sk-hidden--visually\" id=\"4031cfbb-551c-404e-a0cd-6f5acee2996c\" type=\"checkbox\" ><label class=\"sk-toggleable__label\" for=\"4031cfbb-551c-404e-a0cd-6f5acee2996c\">Pipeline</label><div class=\"sk-toggleable__content\"><pre>Pipeline(steps=[('columntransformer',\n",
       "                 ColumnTransformer(transformers=[('drop', 'drop', ['y']),\n",
       "                                                 ('pipeline-1',\n",
       "                                                  Pipeline(steps=[('simpleimputer',\n",
       "                                                                   SimpleImputer(strategy='median')),\n",
       "                                                                  ('standardscaler',\n",
       "                                                                   StandardScaler())]),\n",
       "                                                  ['age', 'campaign', 'pdays',\n",
       "                                                   'previous', 'emp.var.rate',\n",
       "                                                   'cons.price.idx',\n",
       "                                                   'cons.conf.idx', 'euribor3m',\n",
       "                                                   'nr.employed', 'duration']),\n",
       "                                                 ('pipeline-2',\n",
       "                                                  Pi...\n",
       "                                                  ['education']),\n",
       "                                                 ('pipeline-3',\n",
       "                                                  Pipeline(steps=[('simpleimputer',\n",
       "                                                                   SimpleImputer(fill_value='missing',\n",
       "                                                                                 strategy='constant')),\n",
       "                                                                  ('onehotencoder',\n",
       "                                                                   OneHotEncoder(handle_unknown='ignore',\n",
       "                                                                                 sparse=False))]),\n",
       "                                                  ['job', 'poutcome', 'month',\n",
       "                                                   'day_of_week', 'contact',\n",
       "                                                   'marital', 'default',\n",
       "                                                   'housing', 'loan'])])),\n",
       "                ('logisticregression',\n",
       "                 LogisticRegression(class_weight='balanced', max_iter=200))])</pre></div></div></div><div class=\"sk-serial\"><div class=\"sk-item sk-dashed-wrapped\"><div class=\"sk-label-container\"><div class=\"sk-label sk-toggleable\"><input class=\"sk-toggleable__control sk-hidden--visually\" id=\"837e9003-f170-4e89-ae52-55b008632bab\" type=\"checkbox\" ><label class=\"sk-toggleable__label\" for=\"837e9003-f170-4e89-ae52-55b008632bab\">columntransformer: ColumnTransformer</label><div class=\"sk-toggleable__content\"><pre>ColumnTransformer(transformers=[('drop', 'drop', ['y']),\n",
       "                                ('pipeline-1',\n",
       "                                 Pipeline(steps=[('simpleimputer',\n",
       "                                                  SimpleImputer(strategy='median')),\n",
       "                                                 ('standardscaler',\n",
       "                                                  StandardScaler())]),\n",
       "                                 ['age', 'campaign', 'pdays', 'previous',\n",
       "                                  'emp.var.rate', 'cons.price.idx',\n",
       "                                  'cons.conf.idx', 'euribor3m', 'nr.employed',\n",
       "                                  'duration']),\n",
       "                                ('pipeline-2',\n",
       "                                 Pipeline(steps=[('simpleimputer',\n",
       "                                                  Simple...\n",
       "                                                                              'high.school',\n",
       "                                                                              'professional.course',\n",
       "                                                                              'university.degree',\n",
       "                                                                              'unknown']]))]),\n",
       "                                 ['education']),\n",
       "                                ('pipeline-3',\n",
       "                                 Pipeline(steps=[('simpleimputer',\n",
       "                                                  SimpleImputer(fill_value='missing',\n",
       "                                                                strategy='constant')),\n",
       "                                                 ('onehotencoder',\n",
       "                                                  OneHotEncoder(handle_unknown='ignore',\n",
       "                                                                sparse=False))]),\n",
       "                                 ['job', 'poutcome', 'month', 'day_of_week',\n",
       "                                  'contact', 'marital', 'default', 'housing',\n",
       "                                  'loan'])])</pre></div></div></div><div class=\"sk-parallel\"><div class=\"sk-parallel-item\"><div class=\"sk-item\"><div class=\"sk-label-container\"><div class=\"sk-label sk-toggleable\"><input class=\"sk-toggleable__control sk-hidden--visually\" id=\"45df5236-208d-4efa-af77-9d066f8b0d86\" type=\"checkbox\" ><label class=\"sk-toggleable__label\" for=\"45df5236-208d-4efa-af77-9d066f8b0d86\">drop</label><div class=\"sk-toggleable__content\"><pre>['y']</pre></div></div></div><div class=\"sk-serial\"><div class=\"sk-item\"><div class=\"sk-estimator sk-toggleable\"><input class=\"sk-toggleable__control sk-hidden--visually\" id=\"e4dbf625-b5e0-42cc-b6ac-61698a860a3b\" type=\"checkbox\" ><label class=\"sk-toggleable__label\" for=\"e4dbf625-b5e0-42cc-b6ac-61698a860a3b\">drop</label><div class=\"sk-toggleable__content\"><pre>drop</pre></div></div></div></div></div></div><div class=\"sk-parallel-item\"><div class=\"sk-item\"><div class=\"sk-label-container\"><div class=\"sk-label sk-toggleable\"><input class=\"sk-toggleable__control sk-hidden--visually\" id=\"3d63fa20-3158-47cd-9b4f-2e239b91857b\" type=\"checkbox\" ><label class=\"sk-toggleable__label\" for=\"3d63fa20-3158-47cd-9b4f-2e239b91857b\">pipeline-1</label><div class=\"sk-toggleable__content\"><pre>['age', 'campaign', 'pdays', 'previous', 'emp.var.rate', 'cons.price.idx', 'cons.conf.idx', 'euribor3m', 'nr.employed', 'duration']</pre></div></div></div><div class=\"sk-serial\"><div class=\"sk-item\"><div class=\"sk-serial\"><div class=\"sk-item\"><div class=\"sk-estimator sk-toggleable\"><input class=\"sk-toggleable__control sk-hidden--visually\" id=\"1926ace2-b9b9-4079-82b3-763c83b2fe1b\" type=\"checkbox\" ><label class=\"sk-toggleable__label\" for=\"1926ace2-b9b9-4079-82b3-763c83b2fe1b\">SimpleImputer</label><div class=\"sk-toggleable__content\"><pre>SimpleImputer(strategy='median')</pre></div></div></div><div class=\"sk-item\"><div class=\"sk-estimator sk-toggleable\"><input class=\"sk-toggleable__control sk-hidden--visually\" id=\"38c18748-16d8-4a3e-98c1-18cb361b1afd\" type=\"checkbox\" ><label class=\"sk-toggleable__label\" for=\"38c18748-16d8-4a3e-98c1-18cb361b1afd\">StandardScaler</label><div class=\"sk-toggleable__content\"><pre>StandardScaler()</pre></div></div></div></div></div></div></div></div><div class=\"sk-parallel-item\"><div class=\"sk-item\"><div class=\"sk-label-container\"><div class=\"sk-label sk-toggleable\"><input class=\"sk-toggleable__control sk-hidden--visually\" id=\"4cea40ed-40de-4082-b327-2822797b7de4\" type=\"checkbox\" ><label class=\"sk-toggleable__label\" for=\"4cea40ed-40de-4082-b327-2822797b7de4\">pipeline-2</label><div class=\"sk-toggleable__content\"><pre>['education']</pre></div></div></div><div class=\"sk-serial\"><div class=\"sk-item\"><div class=\"sk-serial\"><div class=\"sk-item\"><div class=\"sk-estimator sk-toggleable\"><input class=\"sk-toggleable__control sk-hidden--visually\" id=\"3de77317-a9ae-47a9-baa8-2727cb7db144\" type=\"checkbox\" ><label class=\"sk-toggleable__label\" for=\"3de77317-a9ae-47a9-baa8-2727cb7db144\">SimpleImputer</label><div class=\"sk-toggleable__content\"><pre>SimpleImputer(strategy='most_frequent')</pre></div></div></div><div class=\"sk-item\"><div class=\"sk-estimator sk-toggleable\"><input class=\"sk-toggleable__control sk-hidden--visually\" id=\"0565da4c-b33a-4292-99b0-ad74a4251d53\" type=\"checkbox\" ><label class=\"sk-toggleable__label\" for=\"0565da4c-b33a-4292-99b0-ad74a4251d53\">OrdinalEncoder</label><div class=\"sk-toggleable__content\"><pre>OrdinalEncoder(categories=[['illiterate', 'basic.4y', 'basic.6y', 'basic.9y',\n",
       "                            'high.school', 'professional.course',\n",
       "                            'university.degree', 'unknown']])</pre></div></div></div></div></div></div></div></div><div class=\"sk-parallel-item\"><div class=\"sk-item\"><div class=\"sk-label-container\"><div class=\"sk-label sk-toggleable\"><input class=\"sk-toggleable__control sk-hidden--visually\" id=\"572f2859-f164-417c-b5c6-1443d54861be\" type=\"checkbox\" ><label class=\"sk-toggleable__label\" for=\"572f2859-f164-417c-b5c6-1443d54861be\">pipeline-3</label><div class=\"sk-toggleable__content\"><pre>['job', 'poutcome', 'month', 'day_of_week', 'contact', 'marital', 'default', 'housing', 'loan']</pre></div></div></div><div class=\"sk-serial\"><div class=\"sk-item\"><div class=\"sk-serial\"><div class=\"sk-item\"><div class=\"sk-estimator sk-toggleable\"><input class=\"sk-toggleable__control sk-hidden--visually\" id=\"c64cde3f-195a-4d01-afd7-5a74e1de9db3\" type=\"checkbox\" ><label class=\"sk-toggleable__label\" for=\"c64cde3f-195a-4d01-afd7-5a74e1de9db3\">SimpleImputer</label><div class=\"sk-toggleable__content\"><pre>SimpleImputer(fill_value='missing', strategy='constant')</pre></div></div></div><div class=\"sk-item\"><div class=\"sk-estimator sk-toggleable\"><input class=\"sk-toggleable__control sk-hidden--visually\" id=\"08787224-6715-4a98-a202-97754263093c\" type=\"checkbox\" ><label class=\"sk-toggleable__label\" for=\"08787224-6715-4a98-a202-97754263093c\">OneHotEncoder</label><div class=\"sk-toggleable__content\"><pre>OneHotEncoder(handle_unknown='ignore', sparse=False)</pre></div></div></div></div></div></div></div></div></div></div><div class=\"sk-item\"><div class=\"sk-estimator sk-toggleable\"><input class=\"sk-toggleable__control sk-hidden--visually\" id=\"b13f1a9d-fb6e-4e1c-8c7f-b890f20f8c05\" type=\"checkbox\" ><label class=\"sk-toggleable__label\" for=\"b13f1a9d-fb6e-4e1c-8c7f-b890f20f8c05\">LogisticRegression</label><div class=\"sk-toggleable__content\"><pre>LogisticRegression(class_weight='balanced', max_iter=200)</pre></div></div></div></div></div></div></div>"
      ],
      "text/plain": [
       "Pipeline(steps=[('columntransformer',\n",
       "                 ColumnTransformer(transformers=[('drop', 'drop', ['y']),\n",
       "                                                 ('pipeline-1',\n",
       "                                                  Pipeline(steps=[('simpleimputer',\n",
       "                                                                   SimpleImputer(strategy='median')),\n",
       "                                                                  ('standardscaler',\n",
       "                                                                   StandardScaler())]),\n",
       "                                                  ['age', 'campaign', 'pdays',\n",
       "                                                   'previous', 'emp.var.rate',\n",
       "                                                   'cons.price.idx',\n",
       "                                                   'cons.conf.idx', 'euribor3m',\n",
       "                                                   'nr.employed', 'duration']),\n",
       "                                                 ('pipeline-2',\n",
       "                                                  Pi...\n",
       "                                                  ['education']),\n",
       "                                                 ('pipeline-3',\n",
       "                                                  Pipeline(steps=[('simpleimputer',\n",
       "                                                                   SimpleImputer(fill_value='missing',\n",
       "                                                                                 strategy='constant')),\n",
       "                                                                  ('onehotencoder',\n",
       "                                                                   OneHotEncoder(handle_unknown='ignore',\n",
       "                                                                                 sparse=False))]),\n",
       "                                                  ['job', 'poutcome', 'month',\n",
       "                                                   'day_of_week', 'contact',\n",
       "                                                   'marital', 'default',\n",
       "                                                   'housing', 'loan'])])),\n",
       "                ('logisticregression',\n",
       "                 LogisticRegression(class_weight='balanced', max_iter=200))])"
      ]
     },
     "execution_count": 441,
     "metadata": {},
     "output_type": "execute_result"
    }
   ],
   "source": [
    "# pipeline for best model with optimized hyperparameters\n",
    "\n",
    "pipe_lr_best = random_search.best_estimator_\n",
    "pipe_lr_best.fit(X_train, y_train)"
   ]
  },
  {
   "cell_type": "code",
   "execution_count": 498,
   "metadata": {},
   "outputs": [
    {
     "data": {
      "image/png": "[encoded data removed]",
      "text/plain": [
       "<Figure size 432x288 with 2 Axes>"
      ]
     },
     "metadata": {
      "needs_background": "light"
     },
     "output_type": "display_data"
    }
   ],
   "source": [
    "# Plot confusion matrix\n",
    "cm = plot_confusion_matrix(pipe_lr_best, X_test, y_test, display_labels=[\"Not Subscribed\", \"Subscribed\"], values_format=\"d\", cmap=plt.cm.Blues)\n",
    "\n",
    "\n",
    "path2 = \"../data/confusion_matrix.png\"\n",
    "plt.savefig(path2)"
   ]
  },
  {
   "cell_type": "code",
   "execution_count": 497,
   "metadata": {},
   "outputs": [
    {
     "data": {
      "image/png": "[encoded data removed]",
      "text/plain": [
       "<Figure size 432x288 with 2 Axes>"
      ]
     },
     "metadata": {
      "needs_background": "light"
     },
     "output_type": "display_data"
    }
   ],
   "source": [
    "# Classification report\n",
    "\n",
    "c_report = classification_report(y_test, pipe_lr_best.predict(X_test), target_names=[\"Not Subscribed\", \"Subscribed\"], output_dict=True)\n",
    "report_df = pd.DataFrame(c_report)\n",
    "\n",
    "\n",
    "\n",
    "cr_plot = sns.heatmap(report_df.iloc[:-1, :].T, annot=True, cmap=\"Blues\")\n",
    "\n",
    "path3 = \"../data/classification_report.png\"\n",
    "fig = cr_plot.get_figure()\n",
    "fig.savefig(path3)"
   ]
  },
  {
   "cell_type": "code",
   "execution_count": 482,
   "metadata": {},
   "outputs": [],
   "source": [
    "weights = pipe_lr_best.named_steps['logisticregression'].coef_.flatten()\n",
    "ohe_c_features = list(pipe_lr_best.named_steps['columntransformer']\\\n",
    "                       .named_transformers_['pipeline-3'].named_steps['onehotencoder']\\\n",
    "                       .get_feature_names(categorical_features))\n",
    "transformed_columns = numeric_features + ordinal_features + ohe_c_features2"
   ]
  },
  {
   "cell_type": "code",
   "execution_count": 501,
   "metadata": {},
   "outputs": [],
   "source": [
    "data2={'Predictors':transformed_columns, 'Coefficient':weights}\n",
    "feature_importance = pd.DataFrame(data)"
   ]
  },
  {
   "cell_type": "code",
   "execution_count": 502,
   "metadata": {},
   "outputs": [],
   "source": [
    "feature_importance[\"abs\"] = abs(feature_importance_original[\"coefficient\"])\n",
    "\n",
    "feature_importance_top10 = feature_importance.sort_values(by=\"abs\", ascending=False).nlargest(10,'abs')\n",
    "feature_importance_top10 \n",
    "\n",
    "feature_importance_top10.to_html('../data/hyperparameter_optimization_result.html', justify = \"center\")\n"
   ]
  },
  {
   "cell_type": "code",
   "execution_count": 503,
   "metadata": {},
   "outputs": [],
   "source": [
    "plot = alt.Chart(feature_importance_top10)\\\n",
    "            .mark_bar()\\\n",
    "            .encode(x=alt.X(\"abs\", scale=alt.Scale(domain=(0, 4)),title=\"Feature Coefficients\"),\n",
    "                    y=alt.Y(\"features\", sort=\"-x\", title=\"Features\"))\n",
    "    "
   ]
  },
  {
   "cell_type": "code",
   "execution_count": 448,
   "metadata": {},
   "outputs": [
    {
     "data": {
      "text/html": [
       "\n",
       "<div id=\"altair-viz-e1380f348de44b33b6a15e3299beb142\"></div>\n",
       "<script type=\"text/javascript\">\n",
       "  (function(spec, embedOpt){\n",
       "    let outputDiv = document.currentScript.previousElementSibling;\n",
       "    if (outputDiv.id !== \"altair-viz-e1380f348de44b33b6a15e3299beb142\") {\n",
       "      outputDiv = document.getElementById(\"altair-viz-e1380f348de44b33b6a15e3299beb142\");\n",
       "    }\n",
       "    const paths = {\n",
       "      \"vega\": \"https://cdn.jsdelivr.net/npm//vega@5?noext\",\n",
       "      \"vega-lib\": \"https://cdn.jsdelivr.net/npm//vega-lib?noext\",\n",
       "      \"vega-lite\": \"https://cdn.jsdelivr.net/npm//vega-lite@4.8.1?noext\",\n",
       "      \"vega-embed\": \"https://cdn.jsdelivr.net/npm//vega-embed@6?noext\",\n",
       "    };\n",
       "\n",
       "    function loadScript(lib) {\n",
       "      return new Promise(function(resolve, reject) {\n",
       "        var s = document.createElement('script');\n",
       "        s.src = paths[lib];\n",
       "        s.async = true;\n",
       "        s.onload = () => resolve(paths[lib]);\n",
       "        s.onerror = () => reject(`Error loading script: ${paths[lib]}`);\n",
       "        document.getElementsByTagName(\"head\")[0].appendChild(s);\n",
       "      });\n",
       "    }\n",
       "\n",
       "    function showError(err) {\n",
       "      outputDiv.innerHTML = `<div class=\"error\" style=\"color:red;\">${err}</div>`;\n",
       "      throw err;\n",
       "    }\n",
       "\n",
       "    function displayChart(vegaEmbed) {\n",
       "      vegaEmbed(outputDiv, spec, embedOpt)\n",
       "        .catch(err => showError(`Javascript Error: ${err.message}<br>This usually means there's a typo in your chart specification. See the javascript console for the full traceback.`));\n",
       "    }\n",
       "\n",
       "    if(typeof define === \"function\" && define.amd) {\n",
       "      requirejs.config({paths});\n",
       "      require([\"vega-embed\"], displayChart, err => showError(`Error loading script: ${err.message}`));\n",
       "    } else if (typeof vegaEmbed === \"function\") {\n",
       "      displayChart(vegaEmbed);\n",
       "    } else {\n",
       "      loadScript(\"vega\")\n",
       "        .then(() => loadScript(\"vega-lite\"))\n",
       "        .then(() => loadScript(\"vega-embed\"))\n",
       "        .catch(showError)\n",
       "        .then(() => displayChart(vegaEmbed));\n",
       "    }\n",
       "  })({\"config\": {\"view\": {\"continuousWidth\": 400, \"continuousHeight\": 300}}, \"data\": {\"name\": \"data-4ab72ab41a9a0f70e1f83d7f7988a12c\"}, \"mark\": \"bar\", \"encoding\": {\"x\": {\"type\": \"quantitative\", \"field\": \"abs\", \"scale\": {\"domain\": [0, 4]}, \"title\": \"Feature Coefficients\"}, \"y\": {\"type\": \"nominal\", \"field\": \"features\", \"sort\": \"-x\", \"title\": \"features\"}}, \"$schema\": \"https://vega.github.io/schema/vega-lite/v4.8.1.json\", \"datasets\": {\"data-4ab72ab41a9a0f70e1f83d7f7988a12c\": [{\"features\": \"emp.var.rate\", \"coefficient\": -3.6441031140508313, \"abs\": 3.6441031140508313}, {\"features\": \"month_mar\", \"coefficient\": 1.9942894071004231, \"abs\": 1.9942894071004231}, {\"features\": \"duration\", \"coefficient\": 1.786653489938183, \"abs\": 1.786653489938183}, {\"features\": \"cons.price.idx\", \"coefficient\": 1.5028216802009393, \"abs\": 1.5028216802009393}, {\"features\": \"month_jun\", \"coefficient\": -1.1473266475380322, \"abs\": 1.1473266475380322}, {\"features\": \"month_may\", \"coefficient\": -1.0231088967037896, \"abs\": 1.0231088967037896}, {\"features\": \"month_nov\", \"coefficient\": -0.88572302770807, \"abs\": 0.88572302770807}, {\"features\": \"euribor3m\", \"coefficient\": 0.8732237160444518, \"abs\": 0.8732237160444518}, {\"features\": \"month_aug\", \"coefficient\": 0.7886075497949334, \"abs\": 0.7886075497949334}, {\"features\": \"poutcome_failure\", \"coefficient\": -0.5930099045018337, \"abs\": 0.5930099045018337}]}}, {\"mode\": \"vega-lite\"});\n",
       "</script>"
      ],
      "text/plain": [
       "alt.Chart(...)"
      ]
     },
     "execution_count": 448,
     "metadata": {},
     "output_type": "execute_result"
    }
   ],
   "source": [
    "# plot"
   ]
  },
  {
   "cell_type": "code",
   "execution_count": 500,
   "metadata": {},
   "outputs": [],
   "source": [
    "path = \"../data/top10_features.svg\"\n",
    "plot.save(path)"
   ]
  },
  {
   "cell_type": "code",
   "execution_count": null,
   "metadata": {},
   "outputs": [],
   "source": []
  }
 ],
 "metadata": {
  "kernelspec": {
   "display_name": "Python [conda env:bank]",
   "language": "python",
   "name": "conda-env-bank-py"
  },
  "language_info": {
   "codemirror_mode": {
    "name": "ipython",
    "version": 3
   },
   "file_extension": ".py",
   "mimetype": "text/x-python",
   "name": "python",
   "nbconvert_exporter": "python",
   "pygments_lexer": "ipython3",
   "version": "3.8.6"
  }
 },
 "nbformat": 4,
 "nbformat_minor": 4
}
